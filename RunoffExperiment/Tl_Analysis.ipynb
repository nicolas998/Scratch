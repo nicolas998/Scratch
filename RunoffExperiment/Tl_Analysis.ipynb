{
 "cells": [
  {
   "cell_type": "code",
   "execution_count": 1,
   "metadata": {},
   "outputs": [
    {
     "data": {
      "text/html": [
       "<script>requirejs.config({paths: { 'plotly': ['https://cdn.plot.ly/plotly-latest.min']},});if(!window.Plotly) {{require(['plotly'],function(plotly) {window.Plotly=plotly;});}}</script>"
      ],
      "text/vnd.plotly.v1+html": [
       "<script>requirejs.config({paths: { 'plotly': ['https://cdn.plot.ly/plotly-latest.min']},});if(!window.Plotly) {{require(['plotly'],function(plotly) {window.Plotly=plotly;});}}</script>"
      ]
     },
     "metadata": {},
     "output_type": "display_data"
    }
   ],
   "source": [
    "%matplotlib inline \n",
    "from IPython.display import display, HTML\n",
    "import pandas as pd \n",
    "from plotly.offline import download_plotlyjs, init_notebook_mode, plot, iplot\n",
    "import plotly.graph_objs as go\n",
    "from plotly import tools\n",
    "init_notebook_mode(connected=True)\n",
    "import os \n",
    "import numpy as np \n",
    "import pylab as pl\n",
    "import scipy.stats as st\n",
    "import glob \n",
    "from ifis_tools import database_tools as db\n",
    "from ifis_tools import series_tools as ser\n",
    "import hydroeval as heval"
   ]
  },
  {
   "cell_type": "code",
   "execution_count": 2,
   "metadata": {},
   "outputs": [],
   "source": [
    "def Read_Qobs(linkID):\n",
    "    for k in USGS.keys():\n",
    "        if USGS[k] == linkID:\n",
    "            USGS_id = k\n",
    "    Qobs = db.SQL_read_USGS_Streamflow(USGS_id, '2008-1-1','2018-12-31')\n",
    "    return Qobs['val']\n",
    "def MedianByInterval(RCobs, RCsim, bins = np.linspace(0,1,6)):\n",
    "    Ps = [0]\n",
    "    X = [0]\n",
    "    for b1,b2 in zip(bins[:-1],bins[1:]):\n",
    "        pos = np.where((RCobs>b1)&(RCobs<=b2))[0]\n",
    "        if pos.size>0:\n",
    "            Ps.append(np.percentile(RCsim[pos], 50))\n",
    "        else:\n",
    "            Ps.append(np.nan)\n",
    "        X.append((b1+b2)/2.)\n",
    "    return np.array(Ps), np.array(X)"
   ]
  },
  {
   "cell_type": "markdown",
   "metadata": {},
   "source": [
    "# Tl Analysis.\n",
    "\n",
    "Here we perform an analysis of $T_l$ vrying its value on the model and evaluating the performance on the model.  Steps follow:\n",
    "\n",
    "1. Run HLM model with different values of $T_l$:\n",
    "    - 0.1, 0.09, 0.07, 0.05, 0.03\n",
    "2. For all links with USGS info, read the data and compare results in terms of:\n",
    "    - RCobs Vs RCsim dispersion.\n",
    "    - Nash eff of events.\n",
    "    - KG eff of events."
   ]
  },
  {
   "cell_type": "code",
   "execution_count": 7,
   "metadata": {},
   "outputs": [],
   "source": [
    "path = '/media/nicolas/Data/RunoffExp/Results/'"
   ]
  },
  {
   "cell_type": "code",
   "execution_count": 4,
   "metadata": {},
   "outputs": [],
   "source": [
    "USGS = db.SQL_USGS_at_IFIS()\n",
    "Links = [USGS[k] for k in USGS.keys()]"
   ]
  },
  {
   "cell_type": "code",
   "execution_count": 5,
   "metadata": {},
   "outputs": [],
   "source": [
    "Qobs = {}\n",
    "Qsim = {}\n",
    "Events = {}"
   ]
  },
  {
   "cell_type": "code",
   "execution_count": null,
   "metadata": {},
   "outputs": [],
   "source": [
    "%%time\n",
    "for link in Links:\n",
    "    try:\n",
    "        #Observed data \n",
    "        qobs = pd.read_msgpack(path + 'USGS/'+str(link)+'.msg')\n",
    "        Qhlm = pd.read_msgpack(path + 'HLM190/'+str(link)+'.msg')\n",
    "        Rain = pd.read_msgpack(path + 'Rainfall/'+str(link)+'.msg')\n",
    "        #Read data and separate flux\n",
    "        qobs, Qrun, QsepO = ser.Runoff_SeparateBaseflow(qobs, Qhlm)\n",
    "        #Mean anual maximum \n",
    "        Qmax = qobs.resample('A').max().mean()\n",
    "        Area = db.SQL_Get_linkArea(link)\n",
    "        #Find events and estimates observed RC\n",
    "        pos1, pos2 = ser.Runoff_FindEvents(qobs, Qrun, minPeak=Qmax*0.2)\n",
    "        RCobs = ser.Runoff_CompleteAnalysis(Area, qobs, Rain, QsepO, pos1, pos2, N = pd.Timedelta('2d'))\n",
    "        #Updates observed dictionary\n",
    "        Qobs.update({str(link): {'Q':qobs, 'BR': QsepO, 'RC': RCobs['RC'], 'Rain': RCobs['RainEvent']}})\n",
    "        #Updates dictionary with events \n",
    "        Events.update({str(link): {'p1': pos1, 'p2':pos2}})\n",
    "        \n",
    "        #Read the model \n",
    "        QsimT = {}\n",
    "        for config in ['01','003','005','007','009']:\n",
    "            \n",
    "            #read data and separate baseflow\n",
    "            qs = pd.read_msgpack(path + 'HLM254/'+str(link)+'_'+config+'.msg')\n",
    "            qs, Qrun, qsepS = ser.Runoff_SeparateBaseflow(qs, Qhlm)\n",
    "            #Estimates RunofLf \n",
    "            RC = ser.Runoff_CompleteAnalysis(Area, qs, Rain, qsepS, pos1, pos2, N = pd.Timedelta('2d'))\n",
    "            \n",
    "            #Eval Overall performance (considering the serie between april and december)\n",
    "            for ano in range(2012, 2018):\n",
    "                ind = qs[str(ano)+'-4':str(ano)+'-12'].index\n",
    "                Ls.extend(qs[str(ano)+'-4':str(ano)+'-12'].values.tolist())\n",
    "                Lo.extend(qobs.values.tolist())\n",
    "            NE = heval.evaluator(heval.nse, np.array(Ls),np.array(Lo))[0]\n",
    "            KG = heval.evaluator(heval.kge, np.array(Ls),np.array(Lo))[0][0]\n",
    "            \n",
    "            #Update dictionary with simulations and separated baseflow\n",
    "            QsimT.update({config: {'Q':qs, 'BR':qsepS, 'RC': RC['RC'], 'NE': NE, 'KG': KG}})\n",
    "            \n",
    "            \n",
    "            \n",
    "        Qsim.update({str(link): QsimT})\n",
    "        \n",
    "       \n",
    "        \n",
    "    except:\n",
    "        pass"
   ]
  },
  {
   "cell_type": "code",
   "execution_count": 17,
   "metadata": {},
   "outputs": [],
   "source": [
    "RCsim = Qsim['279554']['01']['RC']\n",
    "RCobs = Qobs['279554']['RC']"
   ]
  },
  {
   "cell_type": "code",
   "execution_count": 26,
   "metadata": {},
   "outputs": [
    {
     "data": {
      "text/plain": [
       "(0, 0.5)"
      ]
     },
     "execution_count": 26,
     "metadata": {},
     "output_type": "execute_result"
    },
    {
     "data": {
      "image/png": "[encoded data removed]",
      "text/plain": [
       "<Figure size 504x504 with 1 Axes>"
      ]
     },
     "metadata": {
      "needs_background": "light"
     },
     "output_type": "display_data"
    }
   ],
   "source": [
    "fig = pl.figure(figsize=(7,7))\n",
    "pl.scatter(RCobs, RCsim)\n",
    "pl.xlim(0,0.5)\n",
    "pl.ylim(0,0.5)\n"
   ]
  },
  {
   "cell_type": "code",
   "execution_count": 43,
   "metadata": {},
   "outputs": [
    {
     "data": {
      "text/plain": [
       "dict_keys(['279554', '79118', '399711', '279587', '226574', '378537', '317905', '199722', '272678', '229021', '221201', '465190', '504104', '350386', '203777', '202584', '323529', '221500', '226541', '447887', '197517', '432886', '178416', '522855', '434365', '272942', '318272', '74725', '104818', '314529', '270936', '292251', '367593', '412946', '179425', '406874', '326674', '272783', '448250', '204046', '114284', '426239', '522980', '275929', '92050', '397674', '509679', '216572', '503998', '78279', '278516', '463834', '326618', '504030', '197256', '216714', '367813', '110818', '378268', '522951', '217531', '334449', '92010', '368052', '434478', '450755', '368123', '465030', '273761', '83159', '98104', '230973', '318079', '318225', '487052', '487254', '285449', '227265', '368221', '258321', '378371', '323592', '203920', '273299', '425876', '434514', '425748', '240462', '555865', '437890', '157405', '431052', '426049', '255051', '309414', '197446', '245378', '143605', '230601', '228998', '203941', '204188', '277520', '313504', '178160', '162846', '108201', '157543', '334282', '318208', '378559', '553137', '132569'])"
      ]
     },
     "execution_count": 43,
     "metadata": {},
     "output_type": "execute_result"
    }
   ],
   "source": [
    "Qsim.keys()"
   ]
  },
  {
   "cell_type": "code",
   "execution_count": null,
   "metadata": {},
   "outputs": [],
   "source": []
  }
 ],
 "metadata": {
  "kernelspec": {
   "display_name": "Python 3",
   "language": "python",
   "name": "python3"
  },
  "language_info": {
   "codemirror_mode": {
    "name": "ipython",
    "version": 3
   },
   "file_extension": ".py",
   "mimetype": "text/x-python",
   "name": "python",
   "nbconvert_exporter": "python",
   "pygments_lexer": "ipython3",
   "version": "3.6.7"
  }
 },
 "nbformat": 4,
 "nbformat_minor": 2
}
