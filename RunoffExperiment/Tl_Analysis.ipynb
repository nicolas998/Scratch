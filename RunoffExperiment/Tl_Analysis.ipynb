{
 "cells": [
  {
   "cell_type": "code",
   "execution_count": 1,
   "metadata": {},
   "outputs": [
    {
     "data": {
      "text/html": [
       "<script>requirejs.config({paths: { 'plotly': ['https://cdn.plot.ly/plotly-latest.min']},});if(!window.Plotly) {{require(['plotly'],function(plotly) {window.Plotly=plotly;});}}</script>"
      ],
      "text/vnd.plotly.v1+html": [
       "<script>requirejs.config({paths: { 'plotly': ['https://cdn.plot.ly/plotly-latest.min']},});if(!window.Plotly) {{require(['plotly'],function(plotly) {window.Plotly=plotly;});}}</script>"
      ]
     },
     "metadata": {},
     "output_type": "display_data"
    }
   ],
   "source": [
    "%matplotlib inline \n",
    "from IPython.display import display, HTML\n",
    "import pandas as pd \n",
    "from plotly.offline import download_plotlyjs, init_notebook_mode, plot, iplot\n",
    "import plotly.graph_objs as go\n",
    "from plotly import tools\n",
    "init_notebook_mode(connected=True)\n",
    "import os \n",
    "import numpy as np \n",
    "import pylab as pl\n",
    "import scipy.stats as st\n",
    "import glob \n",
    "from ifis_tools import database_tools as db\n",
    "from ifis_tools import series_tools as ser\n",
    "import hydroeval as heval"
   ]
  },
  {
   "cell_type": "code",
   "execution_count": 12,
   "metadata": {},
   "outputs": [],
   "source": [
    "def Read_Qobs(linkID):\n",
    "    for k in USGS.keys():\n",
    "        if USGS[k] == linkID:\n",
    "            USGS_id = k\n",
    "    Qobs = db.SQL_read_USGS_Streamflow(USGS_id, '2008-1-1','2018-12-31')\n",
    "    return Qobs['val']\n",
    "def MedianByInterval(RCobs, RCsim, bins = np.linspace(0,1,6)):\n",
    "    Ps = [0]\n",
    "    X = [0]\n",
    "    for b1,b2 in zip(bins[:-1],bins[1:]):\n",
    "        pos = np.where((RCobs>b1)&(RCobs<=b2))[0]\n",
    "        if pos.size>0:\n",
    "            Ps.append(np.percentile(RCsim[pos], 50))\n",
    "        else:\n",
    "            Ps.append(np.nan)\n",
    "        X.append((b1+b2)/2.)\n",
    "    return np.array(Ps), np.array(X)"
   ]
  },
  {
   "cell_type": "markdown",
   "metadata": {},
   "source": [
    "# Tl Analysis.\n",
    "\n",
    "Here we perform an analysis of $T_l$ vrying its value on the model and evaluating the performance on the model.  Steps follow:\n",
    "\n",
    "1. Run HLM model with different values of $T_l$:\n",
    "    - 0.1, 0.09, 0.07, 0.05, 0.03\n",
    "2. For all links with USGS info, read the data and compare results in terms of:\n",
    "    - RCobs Vs RCsim dispersion.\n",
    "    - Nash eff of events.\n",
    "    - KG eff of events."
   ]
  },
  {
   "cell_type": "code",
   "execution_count": 14,
   "metadata": {},
   "outputs": [],
   "source": [
    "path = '/media/nicolas/Data/RunoffExp/Results/'"
   ]
  },
  {
   "cell_type": "code",
   "execution_count": 10,
   "metadata": {},
   "outputs": [],
   "source": [
    "USGS = db.SQL_USGS_at_IFIS()\n",
    "Links = [USGS[k] for k in USGS.keys()]"
   ]
  },
  {
   "cell_type": "code",
   "execution_count": 18,
   "metadata": {},
   "outputs": [],
   "source": [
    "Qobs = {}\n",
    "Qsim = {}\n",
    "Events = {}"
   ]
  },
  {
   "cell_type": "code",
   "execution_count": null,
   "metadata": {},
   "outputs": [],
   "source": [
    "link = Links[25]\n",
    "#Read the data\n",
    "qobs = Read_Qobs(link)\n",
    "Qhlm = pd.read_msgpack(path + 'HLM190/'+str(link)+'_190.msg')\n",
    "Rain = pd.read_msgpack(path + 'Rainfall/Rain_'+str(link)+'.msg')\n",
    "#Read data and separate flux\n",
    "qobs, Qrun, QsepO = ser.Runoff_SeparateBaseflow(qobs, Qhlm)\n",
    "#Mean anual maximum \n",
    "Qmax = qobs.resample('A').max().mean()\n",
    "Area = db.SQL_Get_linkArea(link)\n",
    "#Find events and estimates observed RC\n",
    "pos1, pos2 = ser.Runoff_FindEvents(qobs, Qrun, minPeak=Qmax*0.2)\n",
    "RCobs = ser.Runoff_CompleteAnalysis(Area, qobs, Rain, QsepO, pos1, pos2, N = pd.Timedelta('2d'))\n",
    "#Updates observed dictionary\n",
    "Qobs.update({str(link): {'Q':qobs, 'BR': QsepO, 'RC': RCobs['RC'], 'Rain': RCobs['RainEvent']}})\n",
    "#Updates dictionary with events \n",
    "Events.update({str(link): {'p1': pos1, 'p2':pos2}})\n",
    "#Read the model \n",
    "QsimT = {}\n",
    "for config in ['01','003','005','007','012']:\n",
    "    #read data and separate baseflow\n",
    "    qs = pd.read_msgpack(path + 'HLM254/'+str(link)+'_'+config+'.msg')\n",
    "    qs, Qrun, qsepS = ser.Runoff_SeparateBaseflow(qs, Qhlm)\n",
    "    #Estimates RunofLf \n",
    "    RC = ser.Runoff_CompleteAnalysis(Area, qs, Rain, qsepS, pos1, pos2, N = pd.Timedelta('2d'))\n",
    "    #Update dictionary with simulations and separated baseflow\n",
    "    QsimT.update({config: {'Q':qs, 'BR':qsepS, 'RC': RC['RC']}})\n",
    "Qsim.update({str(link): QsimT})"
   ]
  },
  {
   "cell_type": "markdown",
   "metadata": {},
   "source": [
    "## Voy en que tengo que copiar lo que no sirve a Old (o que bobada?)"
   ]
  },
  {
   "cell_type": "code",
   "execution_count": 28,
   "metadata": {},
   "outputs": [],
   "source": [
    "Good = []\n",
    "for l in Links:\n",
    "    qobs = Read_Qobs(l)\n",
    "    if qobs.size > 0:\n",
    "        Good.append(l)\n",
    "        qobs.to_msgpack('/media/nicolas/Data/RunoffExp/Results/USGS/'+str(link)+'.msg')\n",
    "    else:\n",
    "        "
   ]
  },
  {
   "cell_type": "code",
   "execution_count": 36,
   "metadata": {},
   "outputs": [],
   "source": [
    "path = '/media/nicolas/Data/RunoffExp/Results/'"
   ]
  },
  {
   "cell_type": "code",
   "execution_count": 68,
   "metadata": {},
   "outputs": [],
   "source": [
    "for k in glob.iglob(path +'**/' +str(link)+'*', recursive=True):\n",
    "    comando = 'mv '+k+' '+os.path.dirname(k)+'/noObs/'"
   ]
  },
  {
   "cell_type": "code",
   "execution_count": 69,
   "metadata": {},
   "outputs": [
    {
     "data": {
      "text/plain": [
       "'mv /media/nicolas/Data/RunoffExp/Results/HLM254/216095_009.msg /media/nicolas/Data/RunoffExp/Results/HLM254/noObs/'"
      ]
     },
     "execution_count": 69,
     "metadata": {},
     "output_type": "execute_result"
    }
   ],
   "source": [
    "comando"
   ]
  },
  {
   "cell_type": "code",
   "execution_count": null,
   "metadata": {},
   "outputs": [],
   "source": []
  }
 ],
 "metadata": {
  "kernelspec": {
   "display_name": "Python 3",
   "language": "python",
   "name": "python3"
  },
  "language_info": {
   "codemirror_mode": {
    "name": "ipython",
    "version": 3
   },
   "file_extension": ".py",
   "mimetype": "text/x-python",
   "name": "python",
   "nbconvert_exporter": "python",
   "pygments_lexer": "ipython3",
   "version": "3.6.7"
  }
 },
 "nbformat": 4,
 "nbformat_minor": 2
}
