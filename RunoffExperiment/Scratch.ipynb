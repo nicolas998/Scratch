{
 "cells": [
  {
   "cell_type": "markdown",
   "metadata": {},
   "source": [
    "# Asynch adata converter to msg "
   ]
  },
  {
   "cell_type": "code",
   "execution_count": 3,
   "metadata": {},
   "outputs": [],
   "source": [
    "%matplotlib inline \n",
    "from ifis_tools import asynch_manager as am \n",
    "from ifis_tools import database_tools as db\n",
    "import pandas as pd\n",
    "import numpy as np\n",
    "import glob\n",
    "from multiprocessing import Pool"
   ]
  },
  {
   "cell_type": "code",
   "execution_count": 2,
   "metadata": {},
   "outputs": [],
   "source": [
    "USGS_links = db.SQL_USGS_at_IFIS()"
   ]
  },
  {
   "cell_type": "code",
   "execution_count": 3,
   "metadata": {},
   "outputs": [],
   "source": [
    "L = glob.glob('/media/nicolas/Data/RunoffExp/Raw/190_*.dat')\n",
    "L.sort()"
   ]
  },
  {
   "cell_type": "code",
   "execution_count": 9,
   "metadata": {},
   "outputs": [],
   "source": [
    "LinksID = []\n",
    "for k in USGS_links.keys():\n",
    "    LinksID.append(USGS_links[k])"
   ]
  },
  {
   "cell_type": "code",
   "execution_count": null,
   "metadata": {},
   "outputs": [],
   "source": [
    "Data = {}\n",
    "for l in L:\n",
    "    #try:\n",
    "    d = am.ASYNCH_results(l)\n",
    "    for link in LinksID[87:]:\n",
    "        try:\n",
    "            Data.update({str(link)+'_'+l.split('_')[1][:4] : d.ASYNCH_dat2Serie(link, l.split('_')[1][:4]+'-04-01 00:00', freq = '15min')})\n",
    "        except:\n",
    "            pass\n",
    "    print(l.split('_')[1][:4])"
   ]
  },
  {
   "cell_type": "code",
   "execution_count": null,
   "metadata": {},
   "outputs": [],
   "source": [
    "dates = pd.date_range('2008-04-01','2018-12-01', freq = '15min')\n",
    "for link in LinksID[87:]:\n",
    "    try:\n",
    "        Lista = []\n",
    "        for ano in L:\n",
    "            Lista.append(Data[str(link)+'_'+l.split('_')[1][:4]])\n",
    "        D = pd.concat(Lista)\n",
    "        D2 = pd.Series(np.zeros(dates.size), dates)\n",
    "        D2[D.index] = D.values\n",
    "        D2[D2 == 0] = np.percentile(D.values,10)\n",
    "        D2.to_msgpack('/media/nicolas/Data/RunoffExp/Results/HLM190/'+str(link)+'_190.msg')\n",
    "        print(link)    \n",
    "    except:\n",
    "        pass"
   ]
  },
  {
   "cell_type": "markdown",
   "metadata": {},
   "source": [
    "# Mean rainfall for each link"
   ]
  },
  {
   "cell_type": "code",
   "execution_count": 7,
   "metadata": {},
   "outputs": [],
   "source": [
    "def warp(link):\n",
    "    R =  db.SQL_Get_MeanRainfall(link, '2008-04-01','2018-12-1')\n",
    "    R.to_msgpack('/media/nicolas/Data/RunoffExp/Results/Rainfall/Rain_'+str(link)+'.msg')"
   ]
  },
  {
   "cell_type": "code",
   "execution_count": 11,
   "metadata": {},
   "outputs": [
    {
     "name": "stdout",
     "output_type": "stream",
     "text": [
      "CPU times: user 961 ms, sys: 482 ms, total: 1.44 s\n",
      "Wall time: 18min 15s\n"
     ]
    }
   ],
   "source": [
    "%%time\n",
    "p = Pool(processes=7)\n",
    "p.map(warp, LinksID[14:])\n",
    "p.close()\n",
    "p.join()\n"
   ]
  },
  {
   "cell_type": "code",
   "execution_count": null,
   "metadata": {},
   "outputs": [],
   "source": []
  }
 ],
 "metadata": {
  "kernelspec": {
   "display_name": "Python 3",
   "language": "python",
   "name": "python3"
  },
  "language_info": {
   "codemirror_mode": {
    "name": "ipython",
    "version": 3
   },
   "file_extension": ".py",
   "mimetype": "text/x-python",
   "name": "python",
   "nbconvert_exporter": "python",
   "pygments_lexer": "ipython3",
   "version": "3.6.7"
  }
 },
 "nbformat": 4,
 "nbformat_minor": 2
}
