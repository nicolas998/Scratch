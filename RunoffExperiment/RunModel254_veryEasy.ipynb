{
 "cells": [
  {
   "cell_type": "code",
   "execution_count": 1,
   "metadata": {},
   "outputs": [],
   "source": [
    "from ifis_tools import asynch_manager as am\n",
    "import os \n",
    "import glob "
   ]
  },
  {
   "cell_type": "code",
   "execution_count": 4,
   "metadata": {},
   "outputs": [],
   "source": [
    "path = './'"
   ]
  },
  {
   "cell_type": "code",
   "execution_count": 5,
   "metadata": {},
   "outputs": [],
   "source": [
    "path = './'\n",
    "#Setup of the project.\n",
    "for ano in range(2008, 2019):\n",
    "    #Creates the project\n",
    "    proj = am.ASYNCH_project(path, path, '254_'+str(ano)+'_01', \n",
    "        date1=str(ano)+'-04-01 00:00', date2=str(ano)+'-12-30 00:00',\n",
    "        model = '254',)\n",
    "    #set the parameter\n",
    "    proj.parameters[8] = '0.1'\n",
    "    #Writes the runfile, initial and global.\n",
    "    proj.ASYNCH_setRunFile(path2gbl=path, nprocess=28)\n",
    "    proj.ASYNCH_setGlobal(OutStatesName='254_'+str(ano)+'_01.dat')\n",
    "    #Put the project to run\n",
    "    #os.system('qsub Ensayo/254_'+str(ano)+'_009.sh')"
   ]
  },
  {
   "cell_type": "code",
   "execution_count": 4,
   "metadata": {},
   "outputs": [],
   "source": [
    "List2Run = glob.glob('Ensayo/*.sh')"
   ]
  },
  {
   "cell_type": "code",
   "execution_count": 15,
   "metadata": {},
   "outputs": [
    {
     "data": {
      "text/plain": [
       "256"
      ]
     },
     "execution_count": 15,
     "metadata": {},
     "output_type": "execute_result"
    }
   ],
   "source": [
    "os.system('qsub Ensayo/254_2008_007.sh')"
   ]
  },
  {
   "cell_type": "code",
   "execution_count": 8,
   "metadata": {},
   "outputs": [
    {
     "data": {
      "text/plain": [
       "680"
      ]
     },
     "execution_count": 8,
     "metadata": {},
     "output_type": "execute_result"
    }
   ],
   "source": [
    "1600-240-400-80-110-30*3"
   ]
  },
  {
   "cell_type": "code",
   "execution_count": null,
   "metadata": {},
   "outputs": [],
   "source": []
  }
 ],
 "metadata": {
  "kernelspec": {
   "display_name": "Python 3",
   "language": "python",
   "name": "python3"
  },
  "language_info": {
   "codemirror_mode": {
    "name": "ipython",
    "version": 3
   },
   "file_extension": ".py",
   "mimetype": "text/x-python",
   "name": "python",
   "nbconvert_exporter": "python",
   "pygments_lexer": "ipython3",
   "version": "3.6.7"
  }
 },
 "nbformat": 4,
 "nbformat_minor": 2
}
